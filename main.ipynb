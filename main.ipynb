{
 "cells": [
  {
   "cell_type": "code",
   "execution_count": 2,
   "metadata": {},
   "outputs": [
    {
     "name": "stdout",
     "output_type": "stream",
     "text": [
      "File '/Users/sayeedkhan/Desktop/file_toaudio/u .png' converted to audio successfully!\n"
     ]
    }
   ],
   "source": [
    "import wave\n",
    "import numpy as np\n",
    "\n",
    "# Function to read a file and convert it to audio data\n",
    "def file_to_audio(file_path, output_audio_path, sr=22050):\n",
    "    # Read the file content\n",
    "    with open(file_path, 'rb') as f:\n",
    "        data = f.read()\n",
    "\n",
    "    # Convert data to audio waveform\n",
    "    # Ensure the length of data is a multiple of np.int16 (2 bytes)\n",
    "    remainder = len(data) % 2\n",
    "    if remainder != 0:\n",
    "        # Pad with zeros to make the length even\n",
    "        data += b'\\0' * (2 - remainder)\n",
    "    \n",
    "    y = np.frombuffer(data, dtype=np.int16)  # Convert bytes to numpy array of int16\n",
    "\n",
    "    # Save the audio waveform as a .wav file using wave module\n",
    "    with wave.open(output_audio_path, 'wb') as wf:\n",
    "        wf.setnchannels(1)  # Mono channel\n",
    "        wf.setsampwidth(2)  # 16-bit\n",
    "        wf.setframerate(sr)\n",
    "        wf.writeframes(y.tobytes())\n",
    "\n",
    "    print(f\"File '{file_path}' converted to audio successfully!\")\n",
    "\n",
    "text_file_path = 'anyfile.withanyext'\n",
    "output_audio_path = 'file_to.wav'\n",
    "\n",
    "file_to_audio(text_file_path, output_audio_path)\n"
   ]
  },
  {
   "cell_type": "code",
   "execution_count": 3,
   "metadata": {},
   "outputs": [
    {
     "name": "stdout",
     "output_type": "stream",
     "text": [
      "Audio file 'text_to_audio.wav' converted back to 'recovered_file.png' successfully!\n"
     ]
    }
   ],
   "source": [
    "import wave\n",
    "import numpy as np\n",
    "\n",
    "# Function to convert audio back to the original file\n",
    "def audio_to_file(audio_path, output_file_path):\n",
    "    # Open the audio file\n",
    "    with wave.open(audio_path, 'rb') as wf:\n",
    "        # Read audio data\n",
    "        params = wf.getparams()\n",
    "        audio_data = wf.readframes(params.nframes)\n",
    "    \n",
    "    # Convert audio data to numpy array of int16\n",
    "    y = np.frombuffer(audio_data, dtype=np.int16)\n",
    "    \n",
    "    # Write the audio data back to the original file\n",
    "    with open(output_file_path, 'wb') as f:\n",
    "        f.write(y.tobytes())\n",
    "\n",
    "    print(f\"Audio file '{audio_path}' converted back to '{output_file_path}' successfully!\")\n",
    "\n",
    "audio_path = 'file_to.wav'\n",
    "output_file_path = 'recovered_file.anyext'\n",
    "\n",
    "audio_to_file(audio_path, output_file_path)\n"
   ]
  },
  {
   "cell_type": "code",
   "execution_count": null,
   "metadata": {},
   "outputs": [],
   "source": []
  }
 ],
 "metadata": {
  "kernelspec": {
   "display_name": "Python 3",
   "language": "python",
   "name": "python3"
  },
  "language_info": {
   "codemirror_mode": {
    "name": "ipython",
    "version": 3
   },
   "file_extension": ".py",
   "mimetype": "text/x-python",
   "name": "python",
   "nbconvert_exporter": "python",
   "pygments_lexer": "ipython3",
   "version": "3.9.6"
  }
 },
 "nbformat": 4,
 "nbformat_minor": 2
}
